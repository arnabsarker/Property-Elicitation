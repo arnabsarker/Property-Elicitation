{
 "cells": [
  {
   "cell_type": "code",
   "execution_count": 1,
   "metadata": {},
   "outputs": [
    {
     "name": "stderr",
     "output_type": "stream",
     "text": [
      "/anaconda3/lib/python3.7/importlib/_bootstrap.py:219: RuntimeWarning: compiletime version 3.6 of module 'tensorflow.python.framework.fast_tensor_util' does not match runtime version 3.7\n",
      "  return f(*args, **kwds)\n"
     ]
    }
   ],
   "source": [
    "import tensorflow as tf\n",
    "import matplotlib.pyplot as plt"
   ]
  },
  {
   "cell_type": "markdown",
   "metadata": {},
   "source": [
    "# Recreate AMS Grad Results"
   ]
  },
  {
   "cell_type": "code",
   "execution_count": 2,
   "metadata": {},
   "outputs": [],
   "source": [
    "class AdamOptimizer(tf.train.Optimizer):\n",
    "    def __init__(self, learning_rate=0.001, decay=False, beta1=0.9, beta2=0.99,\n",
    "               epsilon=0.0, var_list=[]):\n",
    "        self.learning_rate = learning_rate\n",
    "        self.decay = decay\n",
    "        self.beta1 = beta1\n",
    "        self.beta2 = beta2\n",
    "        self.epsilon = epsilon\n",
    "\n",
    "        self.var_list = var_list\n",
    "        self.m = {}\n",
    "        self.v = {}\n",
    "        self.beta1_t = tf.Variable(1.0, trainable=False)\n",
    "        self.beta2_t = tf.Variable(1.0, trainable=False)\n",
    "        self.t = tf.Variable(0.0, trainable=False)\n",
    "    \n",
    "        for var in self.var_list:\n",
    "            self.m[var] = tf.Variable(tf.zeros(tf.shape(var.initial_value)), trainable=False)\n",
    "            self.v[var] = tf.Variable(tf.zeros(tf.shape(var.initial_value)), trainable=False)\n",
    "    \n",
    "    def apply_gradients(self, gradient_variables):\n",
    "        beta1_t = self.beta1_t.assign(self.beta1_t * self.beta1)\n",
    "        beta2_t = self.beta2_t.assign(self.beta2_t * self.beta2)\n",
    "    \n",
    "        with tf.control_dependencies([self.t.assign_add(1.0), beta1_t, beta2_t]):\n",
    "            learning_rate = self.learning_rate\n",
    "            if self.decay:\n",
    "                learning_rate /= tf.sqrt(self.t)\n",
    "            update_ops = []\n",
    "\n",
    "            for (g, var) in gradient_variables:\n",
    "                m = self.m[var].assign(self.beta1 * self.m[var] + (1 - self.beta1) * g)\n",
    "                v = self.v[var].assign(self.beta2 * self.v[var] + (1 - self.beta2) * g * g)\n",
    "                m_hat = m / (1 - beta1_t)\n",
    "                v_hat = v / (1 - beta2_t)\n",
    "\n",
    "                update = -learning_rate * m_hat / (self.epsilon + tf.sqrt(v_hat))\n",
    "                update_ops.append(var.assign_add(update))\n",
    "\n",
    "        return tf.group(*update_ops)"
   ]
  },
  {
   "cell_type": "code",
   "execution_count": 3,
   "metadata": {},
   "outputs": [],
   "source": [
    "class AMSGradOptimizer(tf.train.Optimizer):\n",
    "    def __init__(self, learning_rate=0.001, decay=False, beta1=0.9, beta2=0.99,\n",
    "               epsilon=0.0, var_list=[]):\n",
    "        self.learning_rate = learning_rate\n",
    "        self.decay = decay\n",
    "        self.beta1 = beta1\n",
    "        self.beta2 = beta2\n",
    "        self.epsilon = epsilon\n",
    "\n",
    "        self.var_list = var_list\n",
    "        self.m = {}\n",
    "        self.v = {}\n",
    "        self.v_hat = {}\n",
    "        self.t = tf.Variable(0.0, trainable=False)\n",
    "    \n",
    "        for var in self.var_list:\n",
    "            self.m[var] = tf.Variable(tf.zeros(tf.shape(var.initial_value)), trainable=False)\n",
    "            self.v[var] = tf.Variable(tf.zeros(tf.shape(var.initial_value)), trainable=False)\n",
    "            self.v_hat[var] = tf.Variable(tf.zeros(tf.shape(var.initial_value)), trainable=False)\n",
    "    \n",
    "    def apply_gradients(self, gradient_variables):\n",
    "        with tf.control_dependencies([self.t.assign_add(1.0)]):\n",
    "            learning_rate = self.learning_rate\n",
    "            if self.decay:\n",
    "                learning_rate /= tf.sqrt(self.t)\n",
    "                update_ops = []\n",
    "\n",
    "        for (g, var) in gradient_variables:\n",
    "            m = self.m[var].assign(self.beta1 * self.m[var] + (1 - self.beta1) * g)\n",
    "            v = self.v[var].assign(self.beta2 * self.v[var] + (1 - self.beta2) * g * g)\n",
    "            v_hat = self.v_hat[var].assign(tf.maximum(self.v_hat[var], v))\n",
    "\n",
    "            update = -learning_rate * m / (self.epsilon + tf.sqrt(v_hat))\n",
    "            update_ops.append(var.assign_add(update))\n",
    "\n",
    "        return tf.group(*update_ops)"
   ]
  },
  {
   "cell_type": "code",
   "execution_count": 4,
   "metadata": {},
   "outputs": [],
   "source": [
    "def test_optimizer(optimizer_name, iterations=1000000, learning_rate=0.001,\n",
    "                   decay=False):\n",
    "    tf.reset_default_graph()\n",
    "  \n",
    "    with tf.Session() as sess:\n",
    "        r = tf.distributions.Bernoulli(probs=0.01, dtype=tf.float32).sample()\n",
    "        x = tf.Variable(0.0)\n",
    "        loss = (r * 1010 - (1 - r) * 10) * x\n",
    "        var_list = [x]\n",
    "        gradient = tf.gradients(loss, var_list)\n",
    "\n",
    "        if optimizer_name == \"adam\":\n",
    "            optimizer = AdamOptimizer(var_list=var_list, learning_rate=learning_rate,\n",
    "                                    decay=decay)\n",
    "        elif optimizer_name == \"amsgrad\":\n",
    "            optimizer = AMSGradOptimizer(var_list=var_list, learning_rate=learning_rate,\n",
    "                                       decay=decay)\n",
    "        else:\n",
    "            raise Exception(\"Unknown optimizer\")\n",
    "\n",
    "        update_op = optimizer.apply_gradients([(grad, var) for grad, var in zip(gradient, var_list)])\n",
    "        with tf.control_dependencies([update_op]):\n",
    "            clip_op = x.assign(tf.clip_by_value(x, -1.0, 1.0))\n",
    "\n",
    "        sess.run(tf.global_variables_initializer())\n",
    "\n",
    "        results = []\n",
    "\n",
    "        for i in range(iterations):\n",
    "            _, cur_x = sess.run([clip_op, x])\n",
    "            results.append(cur_x)\n",
    "\n",
    "            if i % 500000 == 0:\n",
    "                print(cur_x)\n",
    "\n",
    "        return results"
   ]
  },
  {
   "cell_type": "code",
   "execution_count": 5,
   "metadata": {},
   "outputs": [
    {
     "name": "stdout",
     "output_type": "stream",
     "text": [
      "0.49999967\n"
     ]
    }
   ],
   "source": [
    "results_adam = test_optimizer(\"adam\", iterations=50000, learning_rate=0.5,\n",
    "                              decay=True)"
   ]
  },
  {
   "cell_type": "code",
   "execution_count": 6,
   "metadata": {},
   "outputs": [
    {
     "name": "stdout",
     "output_type": "stream",
     "text": [
      "0.50000006\n"
     ]
    }
   ],
   "source": [
    "results_amsgrad = test_optimizer(\"amsgrad\", iterations=100000, learning_rate=0.5,\n",
    "                                 decay=True)"
   ]
  },
  {
   "cell_type": "code",
   "execution_count": 7,
   "metadata": {},
   "outputs": [
    {
     "data": {
      "image/png": "[encoded data removed]",
      "text/plain": [
       "<Figure size 432x288 with 1 Axes>"
      ]
     },
     "metadata": {
      "needs_background": "light"
     },
     "output_type": "display_data"
    }
   ],
   "source": [
    "plt.plot(results_adam, label=\"adam\")\n",
    "plt.plot(results_amsgrad, label=\"amsgrad\")\n",
    "plt.legend(bbox_to_anchor=(0.8, 0.9), loc=2, borderaxespad=0.)\n",
    "plt.show()"
   ]
  }
 ],
 "metadata": {
  "kernelspec": {
   "display_name": "Python 3",
   "language": "python",
   "name": "python3"
  },
  "language_info": {
   "codemirror_mode": {
    "name": "ipython",
    "version": 3
   },
   "file_extension": ".py",
   "mimetype": "text/x-python",
   "name": "python",
   "nbconvert_exporter": "python",
   "pygments_lexer": "ipython3",
   "version": "3.7.0"
  }
 },
 "nbformat": 4,
 "nbformat_minor": 2
}
