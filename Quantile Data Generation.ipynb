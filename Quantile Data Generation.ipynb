{
 "cells": [
  {
   "cell_type": "code",
   "execution_count": null,
   "metadata": {},
   "outputs": [],
   "source": [
    "import pandas as pd\n",
    "import numpy as np\n",
    "import scipy"
   ]
  },
  {
   "cell_type": "code",
   "execution_count": null,
   "metadata": {},
   "outputs": [],
   "source": [
    "d = 2 # Number of dimensions\n",
    "k = 6 # Number of classes\n",
    "n = 10000 # Number of data points\n",
    "portions = np.array([3, 7, 10, 15, 19, 21]) * 8# Scale for how spread apart the points are\n",
    "scaling = portions[-1]"
   ]
  },
  {
   "cell_type": "markdown",
   "metadata": {},
   "source": [
    "## Generate Training Set (\"Real\" Data)"
   ]
  },
  {
   "cell_type": "code",
   "execution_count": null,
   "metadata": {},
   "outputs": [],
   "source": [
    "## Create one linear classifier, and k-1 \"barriers\" such that,\n",
    "## if point x lies between barrier i and i-1, the probability it belongs to class i\n",
    "## is proportional to how close it is to that barrier\n",
    "def generate_quantile_data(d, k, n):\n",
    "    ## Vector that classification will be based on\n",
    "    w = np.array([1/d]*d)\n",
    "\n",
    "    ## Generate points\n",
    "    projection_points = np.matrix(np.random.uniform(0, scaling, n)).T\n",
    "    points_on_line = projection_points * w\n",
    "\n",
    "    #Ensure noise in range as to not mess with classification too much\n",
    "    noise = np.reshape(np.matrix(np.random.normal(0, scaling / (16*d), n*d)), (n, d))\n",
    "    noise = noise - np.dot(noise, w).T * w\n",
    "    X = points_on_line + noise\n",
    "\n",
    "    ## Get class labels\n",
    "    y = get_class_labels(projection_points, portions, k)\n",
    "    \n",
    "    return X,y"
   ]
  },
  {
   "cell_type": "code",
   "execution_count": null,
   "metadata": {},
   "outputs": [],
   "source": [
    "def get_class_labels(projection_points, portions, k):\n",
    "    y = np.matrix(np.zeros(projection_points.size)).T\n",
    "    for i in range(0, projection_points.size):\n",
    "        curr_point = projection_points[i]\n",
    "        likely_class = np.argmax((curr_point - portions) < 0)\n",
    "        if(likely_class == k - 1):\n",
    "            y[i] = k-1\n",
    "        else:\n",
    "            if(likely_class > 0):\n",
    "                prob_up = 1 - (portions[likely_class] - curr_point) / (portions[likely_class] - portions[likely_class - 1])\n",
    "            else:\n",
    "                prob_up = 1 - (portions[likely_class] - curr_point) / (portions[likely_class] - 0)\n",
    "            y[i] = likely_class + 1 * (np.random.uniform(0,1) < prob_up)\n",
    "    return y"
   ]
  },
  {
   "cell_type": "code",
   "execution_count": null,
   "metadata": {},
   "outputs": [],
   "source": [
    "X,y = generate_quantile_data(d, k, n)"
   ]
  },
  {
   "cell_type": "code",
   "execution_count": null,
   "metadata": {},
   "outputs": [],
   "source": [
    "np.savetxt('quantile_synthetic_features.csv', X, delimiter=',')\n",
    "np.savetxt('quantile_synthetic_labels.csv', y, delimiter=',')"
   ]
  },
  {
   "cell_type": "markdown",
   "metadata": {},
   "source": [
    "## Generate Test Data (Computed Quantiles)"
   ]
  },
  {
   "cell_type": "code",
   "execution_count": null,
   "metadata": {},
   "outputs": [],
   "source": [
    "## Create one linear classifier, and k-1 \"barriers\" such that,\n",
    "## if point x lies between barrier i and i-1, the probability it belongs to class i\n",
    "## is proportional to how close it is to that barrier\n",
    "def generate_quantile_testdata(d, k, n):\n",
    "    ## Vector that classification will be based on\n",
    "    w = np.array([1/d]*d)\n",
    "\n",
    "    ## Generate points\n",
    "    projection_points = np.matrix(np.random.uniform(0, scaling, n)).T\n",
    "    print(projection_points)\n",
    "    points_on_line = projection_points * w\n",
    "    print(points_on_line)\n",
    "\n",
    "    #Ensure noise in range as to not mess with classification too much\n",
    "    noise = np.reshape(np.matrix(np.random.normal(0, scaling / (16*d), n*d)), (n, d))\n",
    "    noise = noise - np.dot(noise, w).T * w\n",
    "    X = points_on_line + noise\n",
    "    print(X.dot(w) *d)\n",
    "    \n",
    "    return X"
   ]
  },
  {
   "cell_type": "code",
   "execution_count": null,
   "metadata": {},
   "outputs": [],
   "source": [
    "X = generate_quantile_testdata(d, k, n)"
   ]
  },
  {
   "cell_type": "code",
   "execution_count": null,
   "metadata": {},
   "outputs": [],
   "source": [
    "np.savetxt('quantile_synthetic_testfeatures.csv', X, delimiter=',')"
   ]
  },
  {
   "cell_type": "markdown",
   "metadata": {},
   "source": [
    "## Understand how data looks"
   ]
  },
  {
   "cell_type": "code",
   "execution_count": null,
   "metadata": {},
   "outputs": [],
   "source": [
    "from matplotlib import pyplot as plt"
   ]
  },
  {
   "cell_type": "code",
   "execution_count": null,
   "metadata": {},
   "outputs": [],
   "source": [
    "plt.scatter([X[:, 0]], [X[:, 1]], c=[y])"
   ]
  }
 ],
 "metadata": {
  "kernelspec": {
   "display_name": "Python 3",
   "language": "python",
   "name": "python3"
  },
  "language_info": {
   "codemirror_mode": {
    "name": "ipython",
    "version": 3
   },
   "file_extension": ".py",
   "mimetype": "text/x-python",
   "name": "python",
   "nbconvert_exporter": "python",
   "pygments_lexer": "ipython3",
   "version": "3.6.4"
  }
 },
 "nbformat": 4,
 "nbformat_minor": 2
}
