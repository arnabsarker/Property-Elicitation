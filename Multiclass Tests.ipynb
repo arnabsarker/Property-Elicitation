{
 "cells": [
  {
   "cell_type": "code",
   "execution_count": 32,
   "metadata": {},
   "outputs": [],
   "source": [
    "import numpy as np\n",
    "from classifiers import *\n",
    "from data_generation import *\n",
    "from timeit import default_timer as timer"
   ]
  },
  {
   "cell_type": "markdown",
   "metadata": {},
   "source": [
    "# Load Dataset"
   ]
  },
  {
   "cell_type": "code",
   "execution_count": 49,
   "metadata": {},
   "outputs": [],
   "source": [
    "train_path = 'datasets/mnist_train.csv'\n",
    "test_path = 'datasets/mnist_test.csv'\n",
    "y_col = 0"
   ]
  },
  {
   "cell_type": "code",
   "execution_count": 15,
   "metadata": {},
   "outputs": [],
   "source": [
    "def get_features_and_labels(dataset, y_col):\n",
    "    y = dataset[:, y_col:y_col+1]\n",
    "    selector = [col for col in range(dataset.shape[1]) if col != y_col]\n",
    "    X = dataset[:, selector]\n",
    "    return X, y"
   ]
  },
  {
   "cell_type": "code",
   "execution_count": 16,
   "metadata": {},
   "outputs": [],
   "source": [
    "## Import data and get sets\n",
    "train_set = np.genfromtxt(train_path, delimiter=',')\n",
    "test_set = np.genfromtxt(test_path, delimiter=',')\n",
    "\n",
    "train_X, train_y = get_features_and_labels(train_set, y_col)\n",
    "test_X, test_y = get_features_and_labels(test_set, y_col)"
   ]
  },
  {
   "cell_type": "code",
   "execution_count": 17,
   "metadata": {},
   "outputs": [],
   "source": [
    "# Optional: Truncate datasets/mess around with them as needed\n",
    "n = 1000\n",
    "train_X, train_y = train_X[0:n, :], train_y[0:n, :]\n",
    "test_X, test_y = test_X[0:n, :], test_y[0:n, :]\n",
    "\n",
    "#Normalize Data\n",
    "train_X, train_y = train_X - np.mean(train_X) , train_y\n",
    "test_X, test_y = test_X - np.mean(test_X) , test_y"
   ]
  },
  {
   "cell_type": "code",
   "execution_count": 18,
   "metadata": {},
   "outputs": [],
   "source": [
    "n = test_y.size\n",
    "train_y = train_y.astype(int)\n",
    "test_y = test_y.astype(int)"
   ]
  },
  {
   "cell_type": "markdown",
   "metadata": {},
   "source": [
    "# Run Quantile Regression "
   ]
  },
  {
   "cell_type": "code",
   "execution_count": 31,
   "metadata": {},
   "outputs": [],
   "source": [
    "def train_classifiers(X_train, y_train, X_test, y_test, a, reg_param=1,\n",
    "                      kernel='linear', kernel_param=1, loss_function='logistic',\n",
    "                      opt_type='SGD', opt_params={'learning_rate': 1}):\n",
    "    results = {}\n",
    "    \n",
    "    base = opt_params['plot_file']\n",
    "    opt_params['plot_file'] = 'IT' + base\n",
    "    start = timer()\n",
    "    clf5 = QuantileIT(gamma=a, alpha=reg_param, kernel_type=kernel, opt_type=opt_type, opt_params=opt_params,\n",
    "                              kernel_param=kernel_param, loss_function=loss_function)\n",
    "    clf5.fit(X_train, y_train)\n",
    "    preds_5 = clf5.predict(X_test)\n",
    "    end = timer()\n",
    "    \n",
    "    abs_loss = weighted_absolute_loss(preds_5, y_test, a)\n",
    "    print('Weighted Absolute Loss of QuantileIT, gamma=' + str(a) + ' %s' %\n",
    "          abs_loss)\n",
    "    \n",
    "    preds_5_in = clf5.predict(X_train)\n",
    "    abs_loss_in = weighted_absolute_loss(preds_5_in, y_train, a)\n",
    "    print('In Sample Weighted Absolute Loss of QuantileIT, gamma=' + str(a) + ' %s' %\n",
    "          abs_loss_in)\n",
    "    print('Time Elapsed: ' + str(end - start))\n",
    "    \n",
    "    results[clf5] = {'AbsLoss': abs_loss, 'Preds': preds_5}\n",
    "    \n",
    "    print(' ')\n",
    "\n",
    "    opt_params['plot_file'] = 'AT' + base\n",
    "    start = timer()\n",
    "    clf6 = QuantileAT(gamma=a, alpha=reg_param, kernel_type=kernel, opt_type=opt_type, opt_params=opt_params,\n",
    "                              kernel_param=kernel_param, loss_function=loss_function)\n",
    "    clf6.fit(X_train, y_train)\n",
    "    preds_6 = clf6.predict(X_test)\n",
    "    end = timer()\n",
    "    abs_loss = weighted_absolute_loss(preds_6, y_test, a)\n",
    "    print('Weighted Absolute Loss of QuantileAT, gamma=' + str(a) + ' %s' %\n",
    "          abs_loss)\n",
    "    \n",
    "    preds_6_in = clf6.predict(X_train)\n",
    "    print('In Sample Weighted Absolute Loss of QuantileAT, gamma=' + str(a) + ' %s' %\n",
    "          abs_loss_in)\n",
    "    print('Time Elapsed: ' + str(end - start))\n",
    "    \n",
    "    results[clf6] = {'AbsLoss': abs_loss, 'Preds': preds_6}\n",
    "    return results"
   ]
  },
  {
   "cell_type": "code",
   "execution_count": 41,
   "metadata": {},
   "outputs": [
    {
     "name": "stderr",
     "output_type": "stream",
     "text": [
      "/anaconda3/lib/python3.7/site-packages/sklearn/utils/validation.py:578: DataConversionWarning: A column-vector y was passed when a 1d array was expected. Please change the shape of y to (n_samples, ), for example using ravel().\n",
      "  y = column_or_1d(y, warn=True)\n"
     ]
    },
    {
     "name": "stdout",
     "output_type": "stream",
     "text": [
      "Generating plot ITtest.png\n",
      "Weighted Absolute Loss of QuantileIT, gamma=0.3 0.7313\n",
      "In Sample Weighted Absolute Loss of QuantileIT, gamma=0.3 0.3651999999999999\n",
      "Time Elapsed: 50.55259421400024\n",
      " \n",
      "Generating plot ATtest.png\n",
      "Weighted Absolute Loss of QuantileAT, gamma=0.3 0.7626999999999999\n",
      "In Sample Weighted Absolute Loss of QuantileAT, gamma=0.3 0.3651999999999999\n",
      "Time Elapsed: 50.26658562400007\n"
     ]
    }
   ],
   "source": [
    "reg = 10\n",
    "kern = 'linear'\n",
    "kern_param = 1\n",
    "lf = 'hinge'\n",
    "\n",
    "parms = {'learning_rate': 0.00000001, 'momentum_gamma': 0.9,\n",
    "         'batch_size': 500, 'plot_file': 'test.png'}\n",
    "\n",
    "results = train_classifiers(train_X, train_y, test_X, test_y, 0.3, reg_param=reg,\n",
    "                            kernel=kern, kernel_param=kern_param, loss_function=lf,\n",
    "                            opt_type='SGD', opt_params=parms)"
   ]
  },
  {
   "cell_type": "code",
   "execution_count": 42,
   "metadata": {},
   "outputs": [
    {
     "name": "stdout",
     "output_type": "stream",
     "text": [
      "[8 3 0 2 4 0 5 6 0 9 0 0 7 1 4 3 7 5 0 4 8 5 3 5 2 0 7 3 0 1 5 3 6 4 5 0 5\n",
      " 2 2 2 0 7 7 0 6 2 5 2 7 4 4 3 0 3 0 5 0 4 7 5 7 6 7 6 7 6 0 2 4 0 5 0 0 7\n",
      " 3 5 2 3 8 8 7 5 3 8 6 5 6 5 6 0 2 5 5 5 3 2 3 6 2 6 4 0 7 4 1 7 0 0 8 4 6\n",
      " 5 3 8 4 6 6 4 7 6 4 4 6 5 7 6 3 3 9 4 5 4 2 2 7 0 0 2 4 6 6 6 5 1 6 0 5 0\n",
      " 0 4 6 3 3 5 3 4 4 0 0 4 6 5 5 5 6 4 4 0 0 5 5 5 0 3 6 6 0 4 0 3 0 6 5 0 5\n",
      " 6 0 5 0 1 2 4 0 8 0 3 2 6 7 5 4 1 0 2 0 3 9 5 3 7 4 5 5 5 9 2 4 0 5 0 9 0\n",
      " 3 7 0 0 5 5 0 5 4 3 6 7 5 6 5 5 5 1 5 6 7 6 5 4 0 5 4 0 7 2 8 5 5 6 0 2 0\n",
      " 0 6 2 7 7 3 1 5 1 0 0 5 0 2 6 6 6 2 5 6 2 3 7 4 5 6 3 6 0 0 5 0 3 7 4 0 6\n",
      " 0 2 0 4 1 3 0 5 5 0 4 7 5 3 0 0 0 4 2 5 5 4 0 0 7 7 8 2 4 6 4 0 5 2 3 0 2\n",
      " 3 0 4 5 5 2 4 3 5 0 1 0 0 3 4 0 8 4 5 2 5 2 6 5 1 6 6 3 4 4 0 0 0 0 5 6 3\n",
      " 8 0 0 5 6 4 7 1 2 3 0 5 2 7 5 0 5 0 2 7 0 3 5 1 6 5 3 4 3 5 0 6 4 5 3 3 5\n",
      " 0 2 4 8 7 9 8 4 7 2 6 5 2 3 0 8 3 0 5 8 1 5 4 0 4 4 6 7 5 1 6 8 7 0 0 4 4\n",
      " 4 0 5 6 7 4 4 1 1 0 6 0 0 5 8 0 8 6 4 1 4 9 4 4 3 6 3 8 3 0 7 5 2 3 4 6 0\n",
      " 7 6 4 5 0 7 6 6 0 4 5 2 3 7 5 7 6 5 5 3 6 3 0 1 6 0 5 5 6 4 7 4 3 4 4 4 4\n",
      " 0 6 4 7 6 3 0 0 5 3 3 1 5 5 6 5 6 0 0 0 5 0 6 4 1 7 4 0 0 4 6 0 6 4 4 7 8\n",
      " 4 4 9 7 0 8 1 7 6 0 8 5 0 6 6 9 6 6 0 0 8 3 5 5 7 5 0 5 5 0 7 1 3 6 5 0 2\n",
      " 0 9 6 1 4 0 9 6 4 3 1 6 7 5 4 5 0 4 5 0 3 5 4 4 8 5 2 4 0 3 3 6 2 5 7 4 5\n",
      " 3 6 6 5 3 2 0 4 2 6 7 3 3 0 2 0 6 3 2 0 6 7 9 1 4 6 5 0 2 2 6 4 5 6 0 4 0\n",
      " 8 6 4 0 6 4 0 5 6 0 7 0 7 7 3 6 3 3 5 5 2 1 3 6 4 6 7 5 5 2 2 4 4 7 3 0 6\n",
      " 7 0 8 7 4 4 5 4 4 6 0 4 4 1 1 7 2 5 3 3 0 5 0 4 3 4 5 4 3 0 8 5 0 3 0 3 5\n",
      " 8 5 0 7 2 0 7 6 5 2 0 3 8 5 1 0 7 6 7 8 7 5 4 3 5 6 5 1 3 7 2 7 0 8 6 3 5\n",
      " 1 3 7 0 5 0 2 5 4 6 5 8 3 1 5 3 6 0 4 2 5 3 4 2 3 2 2 0 9 5 2 4 0 6 3 5 8\n",
      " 6 0 2 0 0 3 5 0 5 2 0 8 2 5 2 5 3 0 6 7 4 2 1 0 5 0 3 6 7 2 3 0 4 4 0 3 0\n",
      " 1 6 6 0 4 1 3 3 8 5 0 7 4 9 2 3 2 4 9 4 0 4 4 8 3 6 7 5 6 3 5 6 0 0 5 4 4\n",
      " 2 1 5 4 5 6 3 2 0 5 3 6 5 4 6 4 0 3 7 0 3 6 5 7 0 5 6 3 2 6 2 0 1 5 3 0 0\n",
      " 0 4 0 7 0 6 5 4 4 3 6 5 3 5 0 3 6 5 0 6 2 6 6 2 0 4 5 0 5 7 5 0 4 0 5 5 6\n",
      " 6 4 0 0 8 2 6 3 5 6 0 0 2 6 4 4 5 0 3 0 2 5 2 2 5 8 0 0 2 7 7 1 4 0 3 0 4\n",
      " 6]\n",
      "[-6.85340000e-05  1.00025612e+00  2.99917519e+00  5.99730174e+00\n",
      "  9.99485122e+00  1.49917205e+01  2.09890028e+01  2.79869581e+01\n",
      "  3.59855630e+01]\n",
      "[8 4 0 2 5 1 5 7 0 8 2 2 7 3 3 3 8 4 0 4 8 6 2 5 5 0 7 4 0 3 5 3 6 4 4 0 6\n",
      " 0 0 2 0 6 7 0 6 3 6 2 8 5 4 2 0 1 2 5 2 4 7 5 7 6 7 5 7 6 2 3 5 0 5 0 0 7\n",
      " 3 6 2 4 8 8 7 6 4 7 7 6 6 6 6 0 3 5 5 5 4 0 4 7 3 7 6 0 6 5 2 7 0 1 8 4 6\n",
      " 5 3 8 3 7 6 5 7 7 4 5 6 5 8 7 3 5 9 4 5 3 2 2 6 1 0 3 4 6 7 7 5 1 6 0 6 1\n",
      " 0 5 6 3 2 5 4 5 4 0 0 4 5 5 6 5 7 4 3 0 0 5 6 4 0 3 5 6 0 4 0 4 0 7 5 0 6\n",
      " 7 0 3 0 2 3 5 0 7 0 3 3 6 7 5 3 4 0 1 0 5 9 6 4 7 3 5 6 5 8 0 4 0 5 2 9 2\n",
      " 2 7 0 0 5 5 0 5 5 3 7 8 5 4 4 5 5 0 6 6 6 7 5 4 0 6 4 0 7 3 8 4 6 6 0 3 2\n",
      " 4 6 0 6 7 4 0 4 1 0 2 5 0 1 6 7 7 2 6 5 0 4 7 4 5 6 4 6 0 0 4 0 0 8 3 0 7\n",
      " 0 2 2 5 0 3 0 6 5 0 5 7 6 1 1 0 0 4 3 6 6 4 0 0 7 7 9 1 4 6 5 0 6 3 2 0 1\n",
      " 3 2 5 6 6 1 4 2 5 0 1 3 0 3 4 0 8 4 5 4 5 3 7 5 0 7 6 4 5 4 1 0 0 3 6 6 3\n",
      " 7 0 0 6 7 5 6 1 0 4 0 6 3 7 6 0 5 3 3 8 0 4 5 0 7 5 2 3 4 5 0 6 3 5 4 4 5\n",
      " 0 1 3 9 6 8 8 5 7 0 7 5 1 3 0 8 0 3 5 8 1 6 4 0 5 5 5 6 6 3 6 8 7 0 0 4 3\n",
      " 4 0 4 6 7 3 4 0 1 0 6 0 2 6 8 0 8 6 5 3 4 9 5 4 3 5 3 8 4 2 8 6 2 0 4 6 0\n",
      " 8 6 4 6 0 7 6 6 0 5 6 0 4 7 7 7 7 6 6 3 7 3 0 0 6 0 5 5 7 2 7 4 3 3 4 3 4\n",
      " 3 6 5 7 7 3 0 0 5 4 3 0 4 6 5 5 6 0 0 0 5 0 6 4 3 8 4 0 0 3 5 0 6 4 5 7 8\n",
      " 4 5 8 8 3 7 2 6 6 0 8 4 0 5 6 9 6 5 0 0 8 3 5 5 6 6 1 6 4 1 7 2 3 6 6 0 3\n",
      " 0 9 6 3 4 0 9 7 5 3 4 6 6 5 5 5 0 3 5 0 3 5 5 4 8 6 0 5 0 4 3 6 3 5 7 5 6\n",
      " 4 7 7 6 4 5 0 5 3 5 7 3 4 1 2 0 6 3 2 0 6 7 9 1 3 5 5 0 0 0 4 3 5 7 0 5 2\n",
      " 7 5 5 0 6 4 1 5 6 0 6 0 7 8 4 7 2 3 6 5 0 0 4 6 4 5 7 5 5 2 2 5 4 7 4 0 6\n",
      " 7 0 8 7 3 3 7 4 4 6 0 4 3 1 4 6 4 3 4 4 3 5 1 5 4 3 4 4 3 4 8 5 0 4 0 3 5\n",
      " 7 6 0 7 0 2 7 7 6 1 0 4 8 5 2 0 7 6 7 7 7 5 3 5 5 6 6 2 2 7 3 7 0 7 5 2 5\n",
      " 3 4 7 0 6 0 2 4 4 5 6 8 4 0 5 2 6 0 5 2 6 5 4 0 0 3 1 4 8 6 1 5 0 7 2 5 8\n",
      " 6 0 0 1 0 1 5 0 5 3 0 8 1 5 2 4 2 0 6 7 5 2 1 0 3 0 3 6 7 3 5 0 4 4 0 3 0\n",
      " 2 6 6 0 4 0 3 4 8 6 3 7 4 9 3 5 3 4 9 5 0 5 5 8 3 6 7 5 7 1 6 6 1 0 6 5 4\n",
      " 4 0 6 5 5 6 4 0 2 6 4 6 5 5 6 4 2 0 6 0 4 7 6 6 2 5 6 5 2 7 2 0 1 5 4 0 0\n",
      " 0 4 0 7 0 6 5 5 4 4 7 5 3 5 2 3 6 6 0 7 0 7 5 0 0 4 6 0 5 7 5 4 4 0 5 4 7\n",
      " 7 3 0 0 8 1 6 3 6 7 0 4 3 6 4 5 5 0 3 0 1 6 2 2 4 8 0 0 3 7 7 0 5 0 5 0 5\n",
      " 6]\n",
      "[-1.00458000e-04  1.00061935e+00  2.99976710e+00  5.99703163e+00\n",
      "  9.99302222e+00  1.49879996e+01  2.09835793e+01  2.79808566e+01\n",
      "  3.59795330e+01]\n"
     ]
    }
   ],
   "source": [
    "for clf in results.keys():\n",
    "    print(results[clf]['Preds'])\n",
    "    print(clf.theta_)"
   ]
  },
  {
   "cell_type": "markdown",
   "metadata": {},
   "source": [
    "# Run Multiclass Test\n",
    "Learning $3 \\lg k$ quantiles"
   ]
  },
  {
   "cell_type": "code",
   "execution_count": 89,
   "metadata": {},
   "outputs": [],
   "source": [
    "def mode(array):\n",
    "    most = max(list(map(array.count, array)))\n",
    "    return list(set(filter(lambda x: array.count(x) == most, array)))"
   ]
  },
  {
   "cell_type": "code",
   "execution_count": 90,
   "metadata": {},
   "outputs": [
    {
     "name": "stderr",
     "output_type": "stream",
     "text": [
      "/anaconda3/lib/python3.7/site-packages/sklearn/utils/validation.py:578: DataConversionWarning: A column-vector y was passed when a 1d array was expected. Please change the shape of y to (n_samples, ), for example using ravel().\n",
      "  y = column_or_1d(y, warn=True)\n"
     ]
    },
    {
     "name": "stdout",
     "output_type": "stream",
     "text": [
      "Weighted Loss of LogisticQuantileAT, gamma=0.1111111111111111 0.4457777777777777\n",
      "0-1 Loss of LogisticQuantileAT, gamma=0.1111111111111111 0.802\n",
      "Weighted Loss of LogisticQuantileAT, gamma=0.2222222222222222 0.6322222222222221\n",
      "0-1 Loss of LogisticQuantileAT, gamma=0.2222222222222222 0.78\n",
      "Weighted Loss of LogisticQuantileAT, gamma=0.3333333333333333 0.7686666666666667\n",
      "0-1 Loss of LogisticQuantileAT, gamma=0.3333333333333333 0.7969999999999999\n",
      "Weighted Loss of LogisticQuantileAT, gamma=0.4444444444444444 0.8154444444444444\n",
      "0-1 Loss of LogisticQuantileAT, gamma=0.4444444444444444 0.794\n",
      "Weighted Loss of LogisticQuantileAT, gamma=0.5555555555555556 0.8216666666666668\n",
      "0-1 Loss of LogisticQuantileAT, gamma=0.5555555555555556 0.8109999999999999\n",
      "Weighted Loss of LogisticQuantileAT, gamma=0.6666666666666666 0.7786666666666667\n",
      "0-1 Loss of LogisticQuantileAT, gamma=0.6666666666666666 0.839\n",
      "Weighted Loss of LogisticQuantileAT, gamma=0.7777777777777778 0.665\n",
      "0-1 Loss of LogisticQuantileAT, gamma=0.7777777777777778 0.834\n",
      "Weighted Loss of LogisticQuantileAT, gamma=0.8888888888888888 0.4601111111111112\n",
      "0-1 Loss of LogisticQuantileAT, gamma=0.8888888888888888 0.833\n"
     ]
    }
   ],
   "source": [
    "ATs = []\n",
    "AT_predictions = []\n",
    "s = int(3 * np.log2(np.unique(train_y).size)) # Number of quantiles\n",
    "for i in range(1, s):\n",
    "    a = i/s\n",
    "\n",
    "    clf6 = QuantileAT(gamma=a, alpha=1., kernel_type='linear', kernel_param=1, loss_function='logistic')\n",
    "    clf6.fit(train_X, train_y)\n",
    "    ATpredictions = clf6.predict(test_X)\n",
    "    print('Weighted Loss of QuantileAT, gamma=' + str(a) + ' %s' %\n",
    "          weighted_absolute_loss(ATpredictions, test_y, a))\n",
    "    print('0-1 Loss of QuantileAT, gamma=' + str(a) + ' %s' %\n",
    "          metrics.zero_one_loss(ATpredictions, test_y))\n",
    "    ATs.append(clf6)\n",
    "    AT_predictions.append(ATpredictions)"
   ]
  },
  {
   "cell_type": "code",
   "execution_count": 91,
   "metadata": {},
   "outputs": [
    {
     "data": {
      "text/plain": [
       "0.808"
      ]
     },
     "execution_count": 91,
     "metadata": {},
     "output_type": "execute_result"
    }
   ],
   "source": [
    "AT_preds = np.zeros((n, s))\n",
    "for i in range(1, s):\n",
    "    AT_preds[:, i] = AT_predictions[i - 1]\n",
    "AT_preds = AT_preds.astype(int)\n",
    "quantile_predictions = np.zeros((n, 1))\n",
    "\n",
    "for i in range(1, n):\n",
    "    quantiles = AT_preds[i, :]\n",
    "    quantile_predictions[i, :] = np.random.choice(mode(quantiles.tolist()))\n",
    "    \n",
    "metrics.zero_one_loss(quantile_predictions, test_y)"
   ]
  },
  {
   "cell_type": "code",
   "execution_count": 92,
   "metadata": {},
   "outputs": [
    {
     "name": "stderr",
     "output_type": "stream",
     "text": [
      "/anaconda3/lib/python3.7/site-packages/sklearn/utils/validation.py:578: DataConversionWarning: A column-vector y was passed when a 1d array was expected. Please change the shape of y to (n_samples, ), for example using ravel().\n",
      "  y = column_or_1d(y, warn=True)\n"
     ]
    },
    {
     "name": "stdout",
     "output_type": "stream",
     "text": [
      "Weighted Loss of LogisticQuantileAT, gamma=0.1111111111111111 0.4546666666666666\n",
      "0-1 Loss of LogisticQuantileAT, gamma=0.1111111111111111 0.874\n",
      "Weighted Loss of LogisticQuantileAT, gamma=0.2222222222222222 0.8131111111111111\n",
      "0-1 Loss of LogisticQuantileAT, gamma=0.2222222222222222 0.884\n",
      "Weighted Loss of LogisticQuantileAT, gamma=0.3333333333333333 1.0716666666666665\n",
      "0-1 Loss of LogisticQuantileAT, gamma=0.3333333333333333 0.884\n",
      "Weighted Loss of LogisticQuantileAT, gamma=0.4444444444444444 1.2127777777777777\n",
      "0-1 Loss of LogisticQuantileAT, gamma=0.4444444444444444 0.893\n",
      "Weighted Loss of LogisticQuantileAT, gamma=0.5555555555555556 1.3025555555555557\n",
      "0-1 Loss of LogisticQuantileAT, gamma=0.5555555555555556 0.913\n",
      "Weighted Loss of LogisticQuantileAT, gamma=0.6666666666666666 1.1523333333333332\n",
      "0-1 Loss of LogisticQuantileAT, gamma=0.6666666666666666 0.913\n",
      "Weighted Loss of LogisticQuantileAT, gamma=0.7777777777777778 0.871\n",
      "0-1 Loss of LogisticQuantileAT, gamma=0.7777777777777778 0.901\n",
      "Weighted Loss of LogisticQuantileAT, gamma=0.8888888888888888 0.5740000000000002\n",
      "0-1 Loss of LogisticQuantileAT, gamma=0.8888888888888888 0.901\n"
     ]
    }
   ],
   "source": [
    "ATs = []\n",
    "AT_predictions = []\n",
    "s = int(3 * np.log2(np.unique(train_y).size)) # Number of quantiles\n",
    "for i in range(1, s):\n",
    "    a = i/s\n",
    "\n",
    "    clf6 = QuantileAT(gamma=a, alpha=1., kernel_type='rbf', kernel_param=1, loss_function='logistic')\n",
    "    clf6.fit(train_X, train_y)\n",
    "    ATpredictions = clf6.predict(test_X)\n",
    "    print('Weighted Loss of QuantileAT, gamma=' + str(a) + ' %s' %\n",
    "          weighted_absolute_loss(ATpredictions, test_y, a))\n",
    "    print('0-1 Loss of QuantileAT, gamma=' + str(a) + ' %s' %\n",
    "          metrics.zero_one_loss(ATpredictions, test_y))\n",
    "    ATs.append(clf6)\n",
    "    AT_predictions.append(ATpredictions)"
   ]
  },
  {
   "cell_type": "code",
   "execution_count": 93,
   "metadata": {},
   "outputs": [
    {
     "data": {
      "text/plain": [
       "0.902"
      ]
     },
     "execution_count": 93,
     "metadata": {},
     "output_type": "execute_result"
    }
   ],
   "source": [
    "AT_preds = np.zeros((n, s))\n",
    "for i in range(1, s):\n",
    "    AT_preds[:, i] = AT_predictions[i - 1]\n",
    "AT_preds = AT_preds.astype(int)\n",
    "quantile_predictions = np.zeros((n, 1))\n",
    "\n",
    "for i in range(1, n):\n",
    "    quantiles = AT_preds[i, :]\n",
    "    quantile_predictions[i, :] = np.random.choice(mode(quantiles.tolist()))\n",
    "    \n",
    "metrics.zero_one_loss(quantile_predictions, test_y)"
   ]
  },
  {
   "cell_type": "markdown",
   "metadata": {},
   "source": [
    "# Run Multiclass Algorithms (for Comparison)"
   ]
  },
  {
   "cell_type": "code",
   "execution_count": 50,
   "metadata": {},
   "outputs": [
    {
     "name": "stderr",
     "output_type": "stream",
     "text": [
      "/anaconda3/lib/python3.7/site-packages/sklearn/utils/validation.py:578: DataConversionWarning: A column-vector y was passed when a 1d array was expected. Please change the shape of y to (n_samples, ), for example using ravel().\n",
      "  y = column_or_1d(y, warn=True)\n"
     ]
    },
    {
     "data": {
      "text/plain": [
       "0.18100000000000005"
      ]
     },
     "execution_count": 50,
     "metadata": {},
     "output_type": "execute_result"
    }
   ],
   "source": [
    "# Standard Logisitic regression\n",
    "from sklearn.linear_model import LogisticRegression\n",
    "clf = LogisticRegression(random_state=0, solver='lbfgs', multi_class='multinomial').fit(train_X, train_y)\n",
    "metrics.zero_one_loss(clf.predict(test_X), test_y)"
   ]
  },
  {
   "cell_type": "markdown",
   "metadata": {},
   "source": [
    "# Analyze Results"
   ]
  },
  {
   "cell_type": "code",
   "execution_count": 50,
   "metadata": {},
   "outputs": [],
   "source": [
    "import pandas as pd"
   ]
  },
  {
   "cell_type": "code",
   "execution_count": 51,
   "metadata": {},
   "outputs": [],
   "source": [
    "results_df = pd.read_csv('mnist_opt/results.csv')"
   ]
  },
  {
   "cell_type": "code",
   "execution_count": 53,
   "metadata": {},
   "outputs": [
    {
     "data": {
      "text/html": [
       "<div>\n",
       "<style scoped>\n",
       "    .dataframe tbody tr th:only-of-type {\n",
       "        vertical-align: middle;\n",
       "    }\n",
       "\n",
       "    .dataframe tbody tr th {\n",
       "        vertical-align: top;\n",
       "    }\n",
       "\n",
       "    .dataframe thead th {\n",
       "        text-align: right;\n",
       "    }\n",
       "</style>\n",
       "<table border=\"1\" class=\"dataframe\">\n",
       "  <thead>\n",
       "    <tr style=\"text-align: right;\">\n",
       "      <th></th>\n",
       "      <th>Quantile</th>\n",
       "      <th>Kernel_Parameter</th>\n",
       "      <th>Reg_Parameter</th>\n",
       "      <th>Weighted_Loss</th>\n",
       "      <th>inSampleWeighted</th>\n",
       "      <th>Time</th>\n",
       "    </tr>\n",
       "    <tr>\n",
       "      <th>Opt_Type</th>\n",
       "      <th></th>\n",
       "      <th></th>\n",
       "      <th></th>\n",
       "      <th></th>\n",
       "      <th></th>\n",
       "      <th></th>\n",
       "    </tr>\n",
       "  </thead>\n",
       "  <tbody>\n",
       "    <tr>\n",
       "      <th>AMSGrad</th>\n",
       "      <td>0.5</td>\n",
       "      <td>1</td>\n",
       "      <td>10</td>\n",
       "      <td>1.473583</td>\n",
       "      <td>1.485885</td>\n",
       "      <td>3962.451075</td>\n",
       "    </tr>\n",
       "    <tr>\n",
       "      <th>Momentum</th>\n",
       "      <td>0.5</td>\n",
       "      <td>1</td>\n",
       "      <td>10</td>\n",
       "      <td>0.577954</td>\n",
       "      <td>0.574733</td>\n",
       "      <td>3922.137073</td>\n",
       "    </tr>\n",
       "    <tr>\n",
       "      <th>Nesterov_Momentum</th>\n",
       "      <td>0.5</td>\n",
       "      <td>1</td>\n",
       "      <td>10</td>\n",
       "      <td>0.577675</td>\n",
       "      <td>0.574647</td>\n",
       "      <td>3915.625747</td>\n",
       "    </tr>\n",
       "    <tr>\n",
       "      <th>SGD</th>\n",
       "      <td>0.5</td>\n",
       "      <td>1</td>\n",
       "      <td>10</td>\n",
       "      <td>0.579679</td>\n",
       "      <td>0.579092</td>\n",
       "      <td>3871.359769</td>\n",
       "    </tr>\n",
       "  </tbody>\n",
       "</table>\n",
       "</div>"
      ],
      "text/plain": [
       "                   Quantile  Kernel_Parameter  Reg_Parameter  Weighted_Loss  \\\n",
       "Opt_Type                                                                      \n",
       "AMSGrad                 0.5                 1             10       1.473583   \n",
       "Momentum                0.5                 1             10       0.577954   \n",
       "Nesterov_Momentum       0.5                 1             10       0.577675   \n",
       "SGD                     0.5                 1             10       0.579679   \n",
       "\n",
       "                   inSampleWeighted         Time  \n",
       "Opt_Type                                          \n",
       "AMSGrad                    1.485885  3962.451075  \n",
       "Momentum                   0.574733  3922.137073  \n",
       "Nesterov_Momentum          0.574647  3915.625747  \n",
       "SGD                        0.579092  3871.359769  "
      ]
     },
     "execution_count": 53,
     "metadata": {},
     "output_type": "execute_result"
    }
   ],
   "source": [
    "results_df.groupby('Opt_Type').mean()"
   ]
  },
  {
   "cell_type": "code",
   "execution_count": 54,
   "metadata": {},
   "outputs": [
    {
     "data": {
      "text/html": [
       "<div>\n",
       "<style scoped>\n",
       "    .dataframe tbody tr th:only-of-type {\n",
       "        vertical-align: middle;\n",
       "    }\n",
       "\n",
       "    .dataframe tbody tr th {\n",
       "        vertical-align: top;\n",
       "    }\n",
       "\n",
       "    .dataframe thead th {\n",
       "        text-align: right;\n",
       "    }\n",
       "</style>\n",
       "<table border=\"1\" class=\"dataframe\">\n",
       "  <thead>\n",
       "    <tr style=\"text-align: right;\">\n",
       "      <th></th>\n",
       "      <th>Quantile</th>\n",
       "      <th>Kernel_Parameter</th>\n",
       "      <th>Reg_Parameter</th>\n",
       "      <th>Weighted_Loss</th>\n",
       "      <th>inSampleWeighted</th>\n",
       "      <th>Time</th>\n",
       "    </tr>\n",
       "    <tr>\n",
       "      <th>Opt_Type</th>\n",
       "      <th></th>\n",
       "      <th></th>\n",
       "      <th></th>\n",
       "      <th></th>\n",
       "      <th></th>\n",
       "      <th></th>\n",
       "    </tr>\n",
       "  </thead>\n",
       "  <tbody>\n",
       "    <tr>\n",
       "      <th>AMSGrad</th>\n",
       "      <td>0.223607</td>\n",
       "      <td>0.0</td>\n",
       "      <td>0.0</td>\n",
       "      <td>0.519959</td>\n",
       "      <td>0.528222</td>\n",
       "      <td>28.767612</td>\n",
       "    </tr>\n",
       "    <tr>\n",
       "      <th>Momentum</th>\n",
       "      <td>0.223607</td>\n",
       "      <td>0.0</td>\n",
       "      <td>0.0</td>\n",
       "      <td>0.080895</td>\n",
       "      <td>0.079966</td>\n",
       "      <td>36.956752</td>\n",
       "    </tr>\n",
       "    <tr>\n",
       "      <th>Nesterov_Momentum</th>\n",
       "      <td>0.223607</td>\n",
       "      <td>0.0</td>\n",
       "      <td>0.0</td>\n",
       "      <td>0.076357</td>\n",
       "      <td>0.076789</td>\n",
       "      <td>39.952209</td>\n",
       "    </tr>\n",
       "    <tr>\n",
       "      <th>SGD</th>\n",
       "      <td>0.223607</td>\n",
       "      <td>0.0</td>\n",
       "      <td>0.0</td>\n",
       "      <td>0.079105</td>\n",
       "      <td>0.077479</td>\n",
       "      <td>122.200458</td>\n",
       "    </tr>\n",
       "  </tbody>\n",
       "</table>\n",
       "</div>"
      ],
      "text/plain": [
       "                   Quantile  Kernel_Parameter  Reg_Parameter  Weighted_Loss  \\\n",
       "Opt_Type                                                                      \n",
       "AMSGrad            0.223607               0.0            0.0       0.519959   \n",
       "Momentum           0.223607               0.0            0.0       0.080895   \n",
       "Nesterov_Momentum  0.223607               0.0            0.0       0.076357   \n",
       "SGD                0.223607               0.0            0.0       0.079105   \n",
       "\n",
       "                   inSampleWeighted        Time  \n",
       "Opt_Type                                         \n",
       "AMSGrad                    0.528222   28.767612  \n",
       "Momentum                   0.079966   36.956752  \n",
       "Nesterov_Momentum          0.076789   39.952209  \n",
       "SGD                        0.077479  122.200458  "
      ]
     },
     "execution_count": 54,
     "metadata": {},
     "output_type": "execute_result"
    }
   ],
   "source": [
    "results_df.groupby('Opt_Type').std()"
   ]
  },
  {
   "cell_type": "code",
   "execution_count": null,
   "metadata": {},
   "outputs": [],
   "source": []
  }
 ],
 "metadata": {
  "kernelspec": {
   "display_name": "Python 3",
   "language": "python",
   "name": "python3"
  },
  "language_info": {
   "codemirror_mode": {
    "name": "ipython",
    "version": 3
   },
   "file_extension": ".py",
   "mimetype": "text/x-python",
   "name": "python",
   "nbconvert_exporter": "python",
   "pygments_lexer": "ipython3",
   "version": "3.7.0"
  }
 },
 "nbformat": 4,
 "nbformat_minor": 2
}
